{
  "nbformat": 4,
  "nbformat_minor": 0,
  "metadata": {
    "colab": {
      "provenance": [],
      "authorship_tag": "ABX9TyP21iqwXCpoVgnxR/m4XT+o"
    },
    "kernelspec": {
      "name": "python3",
      "display_name": "Python 3"
    },
    "language_info": {
      "name": "python"
    }
  },
  "cells": [
    {
      "cell_type": "code",
      "source": [
        "# Importation\n",
        "\n",
        "import numpy as np\n",
        "from numpy import random\n",
        "from matplotlib import pyplot as plt\n",
        "%matplotlib inline"
      ],
      "metadata": {
        "id": "co0YIDtqk2XU"
      },
      "execution_count": null,
      "outputs": []
    },
    {
      "cell_type": "code",
      "source": [
        "# Définit l'affichage du résultat\n",
        "\n",
        "def view_samples(samples, m, n):\n",
        "    fig, axes = plt.subplots(figsize=(10, 10), nrows=m, ncols=n, sharey=True, sharex=True)\n",
        "    for ax, img in zip(axes.flatten(), samples):\n",
        "        ax.xaxis.set_visible(False)\n",
        "        ax.yaxis.set_visible(False)\n",
        "        im = ax.imshow(1-img.reshape((2,2)), cmap='Greys_r')  \n",
        "    return fig, axes"
      ],
      "metadata": {
        "id": "eaF9B62Yk4NO"
      },
      "execution_count": null,
      "outputs": []
    },
    {
      "cell_type": "code",
      "source": [
        "# Exemples de visages\n",
        "\n",
        "faces = [np.array([1,0,0,1]),\n",
        "         np.array([0.1,0.1,0.2,0.8]),\n",
        "         np.array([0.9,0.2,0.1,0.4]),\n",
        "         np.array([0.4,0.1,0.2,0.9]),\n",
        "         np.array([0.5,0.2,0.1,0.9])]\n",
        "    \n",
        "_ = view_samples(faces, 1, 4) # déf fenêtre sous forme matrice de matrice visages (1 4) \n",
        "                              # ayant pour échantillon \"visages\" ; ayant pour 1 ligne ; et 4 colonnes"
      ],
      "metadata": {
        "colab": {
          "base_uri": "https://localhost:8080/",
          "height": 156
        },
        "id": "7oWKo7ZRk49b",
        "outputId": "1e6b8b63-b4a9-44ca-c9ee-ecce56399fb7"
      },
      "execution_count": null,
      "outputs": [
        {
          "output_type": "display_data",
          "data": {
            "text/plain": [
              "<Figure size 720x720 with 4 Axes>"
            ],
            "image/png": "[encoded data removed]"
          },
          "metadata": {
            "needs_background": "light"
          }
        }
      ]
    },
    {
      "cell_type": "code",
      "source": [
        "# Exemples de bruits qu'on génère manuellement à l'aide de bib random\n",
        "\n",
        "noise = [np.random.randn(2,2) for i in range(20)]\n",
        "def generate_random_image():\n",
        "    return [np.random.random(), np.random.random(), np.random.random(), np.random.random()]\n",
        "\n",
        "_ = view_samples(noise, 4,5) # déf les bruits sous forme de matrice de matrice bruit (4 5) ; 4 lignes ; 5 colonnes"
      ],
      "metadata": {
        "colab": {
          "base_uri": "https://localhost:8080/",
          "height": 556
        },
        "id": "vK6YiG5xk6mp",
        "outputId": "e09da49b-5160-4867-d874-c6d687e7d17a"
      },
      "execution_count": null,
      "outputs": [
        {
          "output_type": "display_data",
          "data": {
            "text/plain": [
              "<Figure size 720x720 with 20 Axes>"
            ],
            "image/png": "[encoded data removed]"
          },
          "metadata": {
            "needs_background": "light"
          }
        }
      ]
    },
    {
      "cell_type": "code",
      "source": [
        "# Déf fonction sigmoide\n",
        "def sigmoid(x):\n",
        "    return np.exp(x)/(1.0+np.exp(x))   "
      ],
      "metadata": {
        "id": "C2Gigzdxk_wn"
      },
      "execution_count": null,
      "outputs": []
    },
    {
      "cell_type": "code",
      "source": [
        "class Discriminator():\n",
        "    def __init__(self):\n",
        "        #self.weights = np.array([0.0 for i in range(4)])\n",
        "        #self.bias = 0.0\n",
        "        self.weights = np.array([np.random.normal() for i in range(4)])\n",
        "        self.bias = np.random.normal()\n",
        "    \n",
        "    def forward(self, x):\n",
        "        # calcul du sigma du poids\n",
        "        return sigmoid(np.dot(x, self.weights) + self.bias)\n",
        "    \n",
        "    def error_from_image(self, image):\n",
        "        prediction = self.forward(image)\n",
        "        # On veut que taux en sortie soit de 1, ayant pour valeur en erreur de -log(prediction)\n",
        "        return -np.log(prediction)\n",
        "    \n",
        "    def derivatives_from_image(self, image):\n",
        "        prediction = self.forward(image)\n",
        "        derivatives_weights = -image * (1-prediction)\n",
        "        derivative_bias = -(1-prediction)\n",
        "        return derivatives_weights, derivative_bias\n",
        "    \n",
        "    def update_from_image(self, x):\n",
        "        ders = self.derivatives_from_image(x)\n",
        "        self.weights -= learning_rate * ders[0]\n",
        "        self.bias -= learning_rate * ders[1]\n",
        "\n",
        "    def error_from_noise(self, noise):\n",
        "        prediction = self.forward(noise)\n",
        "        # We want the prediction to be 0, so the error is -log(1-prediction)\n",
        "        return -np.log(1-prediction)\n",
        "    \n",
        "    def derivatives_from_noise(self, noise):\n",
        "        prediction = self.forward(noise)\n",
        "        derivatives_weights = noise * prediction\n",
        "        derivative_bias = prediction\n",
        "        return derivatives_weights, derivative_bias\n",
        "    \n",
        "    def update_from_noise(self, noise):\n",
        "        ders = self.derivatives_from_noise(noise)\n",
        "        self.weights -= learning_rate * ders[0]\n",
        "        self.bias -= learning_rate * ders[1]"
      ],
      "metadata": {
        "id": "ZNiBuyn_k_1w"
      },
      "execution_count": null,
      "outputs": []
    },
    {
      "cell_type": "code",
      "source": [
        "class Generator():\n",
        "    def __init__(self):\n",
        "        self.weights = np.array([np.random.normal() for i in range(4)])\n",
        "        self.biases = np.array([np.random.normal() for i in range(4)])\n",
        "\n",
        "    def forward(self, z):\n",
        "        # calcul du sigma du poids\n",
        "        return sigmoid(z * self.weights + self.biases)\n",
        "\n",
        "    def error(self, z, discriminator):\n",
        "        x = self.forward(z)\n",
        "        # SOuhait d'une prédiction à 0, l'erreur est donné par -log(1-prediction)\n",
        "        y = discriminator.forward(x)\n",
        "        return -np.log(y)\n",
        "\n",
        "    def derivatives(self, z, discriminator):\n",
        "        discriminator_weights = discriminator.weights\n",
        "        discriminator_bias = discriminator.bias\n",
        "        x = self.forward(z)\n",
        "        y = discriminator.forward(x)\n",
        "        factor = -(1-y) * discriminator_weights * x *(1-x)\n",
        "        derivatives_weights = factor * z\n",
        "        derivative_bias = factor\n",
        "        return derivatives_weights, derivative_bias\n",
        "\n",
        "    def update(self, z, discriminator):\n",
        "        error_before = self.error(z, discriminator)\n",
        "        ders = self.derivatives(z, discriminator)\n",
        "        self.weights -= learning_rate * ders[0]\n",
        "        self.biases -= learning_rate * ders[1]\n",
        "        error_after = self.error(z, discriminator)"
      ],
      "metadata": {
        "id": "-BrlGlYolDuz"
      },
      "execution_count": null,
      "outputs": []
    },
    {
      "cell_type": "code",
      "source": [
        "# Paramètre Génèrateur aléatoire \n",
        "np.random.seed(42)\n",
        "\n",
        "# Itérations\n",
        "learning_rate = 0.01\n",
        "epochs = 1000\n",
        "\n",
        "# COmposants du Gan\n",
        "D = Discriminator()\n",
        "G = Generator()\n",
        "\n",
        "# Plot les erreurs\n",
        "errors_discriminator = []\n",
        "errors_generator = []\n",
        "\n",
        "for epoch in range(epochs):\n",
        "    \n",
        "    for face in faces:\n",
        "        \n",
        "        # MAJ poids du discriminants par rapport au véritable image\n",
        "        D.update_from_image(face)\n",
        "    \n",
        "        # CHoisi nombre aléatoire à générer pour la copie fake du visage\n",
        "        z = random.rand()\n",
        "\n",
        "        # Calcule le taux d'erreur du discriminant\n",
        "        errors_discriminator.append(sum(D.error_from_image(face) + D.error_from_noise(z)))\n",
        "        \n",
        "        #Calcule le taux d'erreur du générateur\n",
        "        errors_generator.append(G.error(z, D))\n",
        "        \n",
        "        # Construit un visage fake\n",
        "        noise = G.forward(z)\n",
        "        \n",
        "        #  MAJ poids du discriminants par rapport à l'image fake\n",
        "        D.update_from_noise(noise)\n",
        "    \n",
        "        # MAJ poids du générateur par rapport à l'image fake\n",
        "        G.update(z, D)"
      ],
      "metadata": {
        "id": "2--VjCtdlE9g"
      },
      "execution_count": null,
      "outputs": []
    },
    {
      "cell_type": "code",
      "source": [
        "import matplotlib.pyplot as plt\n",
        "plt.plot(errors_generator)\n",
        "plt.title(\"Fonction de l'erreur du Générateur\")\n",
        "plt.legend(\"gen\")\n",
        "plt.show()\n",
        "plt.plot(errors_discriminator)\n",
        "plt.legend('disc')\n",
        "plt.title(\"Fonction de l'erreur du Discriminant\")"
      ],
      "metadata": {
        "colab": {
          "base_uri": "https://localhost:8080/",
          "height": 562
        },
        "id": "v3nIYuullHAA",
        "outputId": "7c1dd2d6-f204-4230-c4b1-2d9298d9c825"
      },
      "execution_count": null,
      "outputs": [
        {
          "output_type": "display_data",
          "data": {
            "text/plain": [
              "<Figure size 432x288 with 1 Axes>"
            ],
            "image/png": "[encoded data removed]"
          },
          "metadata": {
            "needs_background": "light"
          }
        },
        {
          "output_type": "execute_result",
          "data": {
            "text/plain": [
              "Text(0.5, 1.0, \"Fonction de l'erreur du Discriminant\")"
            ]
          },
          "metadata": {},
          "execution_count": 26
        },
        {
          "output_type": "display_data",
          "data": {
            "text/plain": [
              "<Figure size 432x288 with 1 Axes>"
            ],
            "image/png": "[encoded data removed]"
          },
          "metadata": {
            "needs_background": "light"
          }
        }
      ]
    },
    {
      "cell_type": "code",
      "source": [
        "generated_images = []\n",
        "for i in range(4):\n",
        "    z = random.random()\n",
        "    generated_image = G.forward(z)\n",
        "    generated_images.append(generated_image)\n",
        "_ = view_samples(generated_images, 1, 4)\n",
        "for i in generated_images:\n",
        "    print(i)"
      ],
      "metadata": {
        "colab": {
          "base_uri": "https://localhost:8080/",
          "height": 225
        },
        "id": "x2CcL8WdlIxa",
        "outputId": "496d747a-87c8-4071-d6c2-22e3e750d6cc"
      },
      "execution_count": null,
      "outputs": [
        {
          "output_type": "stream",
          "name": "stdout",
          "text": [
            "[0.61528353 0.03599439 0.04143038 0.93749954]\n",
            "[0.62580939 0.03556176 0.0454016  0.92967747]\n",
            "[0.5963439  0.03677454 0.03518864 0.94941267]\n",
            "[0.59686473 0.03675304 0.03534624 0.94911822]\n"
          ]
        },
        {
          "output_type": "display_data",
          "data": {
            "text/plain": [
              "<Figure size 720x720 with 4 Axes>"
            ],
            "image/png": "[encoded data removed]"
          },
          "metadata": {
            "needs_background": "light"
          }
        }
      ]
    },
    {
      "cell_type": "code",
      "source": [
        "print(\"Poids du Generateur\", G.weights)\n",
        "print(\"Bias du Generateur\", G.biases)"
      ],
      "metadata": {
        "colab": {
          "base_uri": "https://localhost:8080/"
        },
        "id": "XjC0tqE8lJ78",
        "outputId": "f606256f-a45e-498c-f9a4-38038a72d489"
      },
      "execution_count": null,
      "outputs": [
        {
          "output_type": "stream",
          "name": "stdout",
          "text": [
            "Poids du Generateur [-0.21169756  0.05938739 -0.45311763  0.59808416]\n",
            "Bias du Generateur [ 0.58774005 -3.32088246 -2.88851055  2.37420895]\n"
          ]
        }
      ]
    },
    {
      "cell_type": "code",
      "source": [
        "print(\"Poids du Discriminant\", D.weights)\n",
        "print(\"Bias du Discriminant\", D.bias)"
      ],
      "metadata": {
        "colab": {
          "base_uri": "https://localhost:8080/"
        },
        "id": "NB6-qTMylLaf",
        "outputId": "de55209c-3136-4d44-a566-b18f2f570745"
      },
      "execution_count": null,
      "outputs": [
        {
          "output_type": "stream",
          "name": "stdout",
          "text": [
            "Discriminator weights [ 0.0673787  -0.24755574 -0.39513878 -0.55526305]\n",
            "Discriminator bias 0.4286770229021527\n"
          ]
        }
      ]
    }
  ]
}